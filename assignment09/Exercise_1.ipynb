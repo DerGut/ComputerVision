{
 "cells": [
  {
   "cell_type": "markdown",
   "metadata": {},
   "source": [
    "# Exercise 1\n",
    "Define an arbitrary n × n-matrix A in matlab. Calculate the eigenvectors and eigenvalues of this matrix (eig). What happens if you multiply A with one of the eigenvectors? How are the eigenvalues correlated with A? Give the answer in comments in your code."
   ]
  },
  {
   "cell_type": "code",
   "execution_count": 14,
   "metadata": {
    "collapsed": false
   },
   "outputs": [
    {
     "name": "stdout",
     "output_type": "stream",
     "text": [
      "Populating the interactive namespace from numpy and matplotlib\n"
     ]
    },
    {
     "data": {
      "text/plain": [
       "array([ 1.97142499,  0.98667282,  1.17022585,  1.26763397,  1.67023042,\n",
       "        0.7104902 ,  0.98302429,  1.52432222,  1.4551042 ,  1.47079501])"
      ]
     },
     "metadata": {},
     "output_type": "display_data"
    },
    {
     "data": {
      "text/plain": [
       "array([ 1.97142499,  0.98667282,  1.17022585,  1.26763397,  1.67023042,\n",
       "        0.7104902 ,  0.98302429,  1.52432222,  1.4551042 ,  1.47079501])"
      ]
     },
     "metadata": {},
     "output_type": "display_data"
    }
   ],
   "source": [
    "%pylab inline\n",
    "\n",
    "# Random square matrix A\n",
    "A = rand(10,10)\n",
    "\n",
    "# w = eigenvalues, v = eigenvectors of A\n",
    "w, v = eig(A)\n",
    "\n",
    "# B is the dot product of A and its first eigenvector\n",
    "B = abs(dot(A,v[:,0]))\n",
    "\n",
    "# C is the product of the first eigenvector of A and its eigenvalue\n",
    "C = abs(w[0] * v[:,0])\n",
    "\n",
    "# B and C are identical\n",
    "display(B, C)\n"
   ]
  }
 ],
 "metadata": {
  "kernelspec": {
   "display_name": "Python 3",
   "language": "python",
   "name": "python3"
  },
  "language_info": {
   "codemirror_mode": {
    "name": "ipython",
    "version": 3
   },
   "file_extension": ".py",
   "mimetype": "text/x-python",
   "name": "python",
   "nbconvert_exporter": "python",
   "pygments_lexer": "ipython3",
   "version": "3.5.0"
  }
 },
 "nbformat": 4,
 "nbformat_minor": 0
}
